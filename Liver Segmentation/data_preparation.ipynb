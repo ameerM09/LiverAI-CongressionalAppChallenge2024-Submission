{
 "cells": [
  {
   "cell_type": "markdown",
   "metadata": {},
   "source": [
    "### Import the necessary dependencies"
   ]
  },
  {
   "cell_type": "code",
   "execution_count": 5,
   "metadata": {},
   "outputs": [],
   "source": [
    "from glob import glob \n",
    "import nibabel as nib\n",
    "import numpy as np\n",
    "import dicom2nifti\n",
    "import random\n",
    "import shutil\n",
    "import os"
   ]
  },
  {
   "cell_type": "markdown",
   "metadata": {},
   "source": [
    "### Script to create different directories each with the same number of DICOM images or slices\n",
    "\n",
    "### Adjust the \"slices_per_folder\" variable as per preference"
   ]
  },
  {
   "cell_type": "code",
   "execution_count": 16,
   "metadata": {},
   "outputs": [],
   "source": [
    "def format_slices_per_folder(slices_per_folder, input_path, output_path):\n",
    "    for patient_path in glob(input_path + \"/*\"):\n",
    "        patient_num = os.path.basename(os.path.normpath(patient_path))\n",
    "\n",
    "        folders_num = int(len(glob(patient_path + \"/*\")) / slices_per_folder)\n",
    "\n",
    "        for folder_num in range(folders_num):\n",
    "            output_path_name = os.path.join(output_path, patient_num + \"_\" + str(folder_num))\n",
    "\n",
    "            os.mkdir(output_path_name)\n",
    "\n",
    "            for i, file in enumerate(glob(patient_path + \"/*\")):\n",
    "                if i == slices_per_folder:\n",
    "                    break\n",
    "\n",
    "                shutil.move(file, output_path_name)"
   ]
  },
  {
   "cell_type": "markdown",
   "metadata": {},
   "source": [
    "### Script to convert the DICOM series of patient images in each folder into compressed .nii files"
   ]
  },
  {
   "cell_type": "code",
   "execution_count": 26,
   "metadata": {},
   "outputs": [],
   "source": [
    "def dicom_to_nifti_conversion(in_path, out_path):\n",
    "\n",
    "    list_of_images = glob(in_path)\n",
    "    \n",
    "    for patient_index in list_of_images:\n",
    "        patient_num = os.path.basename(os.path.normpath(patient_index))\n",
    "        dicom2nifti.dicom_series_to_nifti(patient_index, os.path.join(out_path, patient_num + \".nii.gz\"))"
   ]
  },
  {
   "cell_type": "code",
   "execution_count": null,
   "metadata": {},
   "outputs": [],
   "source": [
    "def dicom_to_nifti_conversion_for_labels(labels_input_path, labels_output_path):\n",
    "\n",
    "    list_of_labels = glob(labels_input_path)\n",
    "    \n",
    "    for patient_index in list_of_labels:\n",
    "        patient_num = os.path.basename(os.path.normpath(patient_index))\n",
    "        output_file = dicom2nifti.dicom_series_to_nifti(patient_index, os.path.join(labels_output_path, patient_num + \".nii.gz\"))\n",
    "\n",
    "        # Added a try and except method because label conversion from DICOM series into .nii.gz files typically involves slice increment errors \n",
    "        try:\n",
    "            dicom2nifti.dicom_series_to_nifti(patient_index, output_file)\n",
    "        except Exception as e:\n",
    "            print(f\"Error processing {patient_index}: {e}\")\n",
    "\n",
    "dicom_to_nifti_conversion_for_labels(labels_input_path = \"G:/DL for Pancreas Segmentation/dicom_tests/images/*\", labels_output_path = \"G:/DL for Pancreas Segmentation/nifti_tests/images\")"
   ]
  }
 ],
 "metadata": {
  "kernelspec": {
   "display_name": "liver-segmentation",
   "language": "python",
   "name": "python3"
  },
  "language_info": {
   "codemirror_mode": {
    "name": "ipython",
    "version": 3
   },
   "file_extension": ".py",
   "mimetype": "text/x-python",
   "name": "python",
   "nbconvert_exporter": "python",
   "pygments_lexer": "ipython3",
   "version": "3.8.19"
  }
 },
 "nbformat": 4,
 "nbformat_minor": 2
}
